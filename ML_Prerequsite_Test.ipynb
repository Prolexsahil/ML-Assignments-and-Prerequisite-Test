{
  "nbformat": 4,
  "nbformat_minor": 0,
  "metadata": {
    "colab": {
      "provenance": []
    },
    "kernelspec": {
      "name": "python3",
      "display_name": "Python 3"
    },
    "language_info": {
      "name": "python"
    }
  },
  "cells": [
    {
      "cell_type": "markdown",
      "source": [
        "##Name :- Sahil Deepak Gawande\n",
        "##Roll No. :- 25210110\n",
        "##Branch :- MTech CSE"
      ],
      "metadata": {
        "id": "W0QT0_OkMnfn"
      }
    },
    {
      "cell_type": "markdown",
      "source": [
        "# Ques 1) How many multiplications and additions do you need to perform a matrix multiplication between a (n, k) and (k, m) matrix? Explain.\n",
        "\n",
        "Ans:- Let us consider two matrices with dimensions A(n,k) and matrix B(k,m).Thus the resulting matrix after the Multiplication will be C(n,m).\n",
        "\n",
        "*   The element in i$^{th}$ row and j$^{th}$ column of matrix c ,denoted as $C_{ij}$ is calculated by taking the dot product of the i$^{th}$ row of matrix and the j$^{th}$ column of matrix B.\n",
        "\n",
        "\n",
        "1)Multiplications-->\n",
        "\n",
        "*   The dot product of a row vector with a column vector of length k involves k multiplications.\n",
        "*   To find $C_{ij}$,we multiply the k elements of row i of A with th k elements of column j of B and sum the products.\n",
        "\n",
        " $C_{ij}$ = $\\sum_{l=1}^{l=k}$ $A_{il}$ x $B_{lj}$\n",
        "\n",
        "\n",
        "\n",
        "*   Since there are n×m elements in the resulting matrix C, and each element requires k multiplications, the total number of multiplications is n×m×k.\n",
        "\n",
        "\n",
        "---\n",
        "\n",
        "\n",
        "2) Additions -->\n",
        "To calculate the sum of the k products for each element $C_{ij}$, you need to perform (k-1) additions.  \n",
        "\n",
        "\n",
        "*   For example:  \n",
        "$A_{i1}B_{1j}$ + $A_{i2}B_{2j}$\n",
        "is one addition, and then you add the next term, and so on, until you have added all k terms.\n",
        "\n",
        "\n",
        "*   Since there are n×m elements in the resulting matrix C, and each element requires k−1 additions, the total number of additions is n × m × (k−1).\n",
        "\n",
        "\n",
        "\n",
        "\n",
        "\n",
        "\n",
        "\n",
        "\n",
        "\n",
        "\n",
        "\n"
      ],
      "metadata": {
        "id": "K4UR_aZxpn49"
      }
    },
    {
      "cell_type": "markdown",
      "source": [
        "##Ques 2) Write Python code to multiply the above two matrices. Solve using list of lists and then use numpy. Compare the timing of both solutions. Which one is faster? Why?"
      ],
      "metadata": {
        "id": "CXfDRMCYxY76"
      }
    },
    {
      "cell_type": "code",
      "source": [
        "import random\n",
        "import time\n",
        "import numpy as np\n",
        "\n",
        "# Matrix sizes\n",
        "n, k, m = 200, 300, 150\n",
        "\n",
        "#Generate random matrices (list of lists)\n",
        "X_list = [[random.random() for _ in range(k)] for _ in range(n)]\n",
        "Y_list = [[random.random() for _ in range(m)] for _ in range(k)]\n",
        "\n",
        "#Multiply using list of lists\n",
        "def matmul_list(X, Y):\n",
        "    n = len(X)\n",
        "    k = len(X[0])\n",
        "    m = len(Y[0])\n",
        "\n",
        "    #Initialize result matrix with zeros\n",
        "    Z = [[0.0 for _ in range(m)] for _ in range(n)]\n",
        "\n",
        "    for i in range(n):\n",
        "        for j in range(m):\n",
        "            total = 0.0\n",
        "            for t in range(k):\n",
        "                total += X[i][t] * Y[t][j]\n",
        "            Z[i][j] = total\n",
        "    return Z\n",
        "\n",
        "start = time.time()\n",
        "C_list = matmul_list(A_list, B_list)\n",
        "end = time.time()\n",
        "list_time = end - start\n",
        "print(f\"List of lists multiplication time: {list_time:.4f} seconds\")\n",
        "\n",
        "\n",
        "# Multiply using NumPy\n",
        "A_np = np.array(A_list)\n",
        "B_np = np.array(B_list)\n",
        "\n",
        "start = time.time()\n",
        "C_np =np.matmul(A_np, B_np)\n",
        "end = time.time()\n",
        "numpy_time = end - start\n",
        "print(f\"NumPy multiplication time: {numpy_time:.4f} seconds\")\n",
        "\n",
        "\n",
        "# Compare\n",
        "if numpy_time < list_time:\n",
        "    print(\"NumPy is faster.\")\n",
        "else:\n",
        "    print(\"Lists were faster here (likely due to very small matrix size).\")\n"
      ],
      "metadata": {
        "colab": {
          "base_uri": "https://localhost:8080/"
        },
        "id": "BUtvrPYzxYtj",
        "outputId": "1389c2d7-fff2-4431-afd6-bbc980641c50"
      },
      "execution_count": null,
      "outputs": [
        {
          "output_type": "stream",
          "name": "stdout",
          "text": [
            "List of lists multiplication time: 0.8363 seconds\n",
            "NumPy multiplication time: 0.0011 seconds\n",
            "NumPy is faster.\n"
          ]
        }
      ]
    },
    {
      "cell_type": "markdown",
      "source": [
        "**NumPy is Faster as compared List for Large Matrices**\n",
        "\n",
        "*  Vectorization: NumPy uses highly optimized C and Fortran routines that operate on contiguous memory blocks, avoiding Python loops.\n",
        "\n",
        "*  Reduced overhead: Python loops have a lot of interpretation overhead; NumPy’s loops happen in compiled code.\n",
        "\n",
        "*  For small matrices, the speed difference may be small or even reversed (due to function call overhead), but for large matrices NumPy is usually orders of magnitude faster."
      ],
      "metadata": {
        "id": "-uq73crQzOb_"
      }
    },
    {
      "cell_type": "markdown",
      "source": [
        "##Ques 3)  Finding the highest element in a list requires one pass of the array. Finding the second highest element requires 2 passes of the the array. Using this method, what is the time complexity of finding the median of the array? Can you suggest a better method? Can you implement both these methods in Python and compare against numpy.median routine in terms of time?"
      ],
      "metadata": {
        "id": "IeRj_YIM2RU_"
      }
    },
    {
      "cell_type": "markdown",
      "source": [
        "**Time Complexity of Finding th emedian of Arary using this Approach **\n",
        "\n",
        "*  This method involves finding the highest element in one pass, then the second highest in a second pass, and so on, until we reach the median element.\n",
        "\n",
        "*  To find the highest element, we  need to scan through all N elements, which takes O(N) time. To find the second highest, we will again scan through the remaining elements or the whole array, ignoring the first highest, which also takes O(N) time.\n",
        "\n",
        "*   Repeat this process for the third, fourth, and subsequent highest elements.\n",
        "\n",
        "The median is the element at position N/2 . To find this element, we have to perform roughly N/2 passes of the array. Since each pass takes O(N) time, the total time complexity of these passes:\n",
        "\n",
        "O(N) + O(N) + ....... + O(N)(N/2 times) = N/2 x O(N) = O($N^{2}$)\n",
        "This is a very inefficient approach.\n",
        "\n",
        "\n",
        "\n",
        "---\n",
        "\n",
        "**The Optimal Method:**\n",
        "Quickselect (O(N))\n",
        "For finding the k-th smallest (or largest) element, such as the median, there is an even better algorithm called Quickselect.\n",
        "\n",
        "*  Quickselect is a selection algorithm that is a variation of the Quicksort algorithm. Instead of sorting the entire array, it efficiently partitions the array around a pivot and then recursively searches for the median in only one of the partitions. This allows it to find the median in O(N) average time. While its worst-case time is O($N^2$), this is extremely rare in practice.\n",
        "\n",
        "The Quickselect algorithm is the most optimal solution for finding the median because its average-case time complexity is linear.\n",
        "\n"
      ],
      "metadata": {
        "id": "elH2-w2X2X8a"
      }
    },
    {
      "cell_type": "code",
      "execution_count": null,
      "metadata": {
        "colab": {
          "base_uri": "https://localhost:8080/"
        },
        "id": "G5q6JqLkoh1G",
        "outputId": "1c3dad3f-e2fe-44b6-c27c-ba65f2cff284"
      },
      "outputs": [
        {
          "output_type": "stream",
          "name": "stdout",
          "text": [
            "| Array Size | NumPy Median (O(n log n)) | Repeated Passes (O(n²)) | Quickselect (O(n) avg.) |\n",
            "|------------|---------------------------|--------------------------|--------------------------|\n",
            "| 1000       | 0.004498                  | 0.015587                 | 0.001243                 |\n",
            "| 2000       | 0.000450                  | 0.035715                 | 0.001222                 |\n",
            "| 5000       | 0.000725                  | 0.314186                 | 0.003168                 |\n"
          ]
        }
      ],
      "source": [
        "import random\n",
        "import time\n",
        "import numpy as np\n",
        "\n",
        "# Method 1: Repeated passes method\n",
        "def repeated_passes_median(arr):\n",
        "    n = len(arr)\n",
        "    arr_copy = arr.copy()\n",
        "    for _ in range(n // 2):\n",
        "        max_val = max(arr_copy)\n",
        "        arr_copy.remove(max_val)\n",
        "    return max(arr_copy)\n",
        "\n",
        "# Method 2: Quickselect\n",
        "def quickselect(arr, k):\n",
        "    if len(arr) == 1:\n",
        "        return arr[0]\n",
        "    pivot = random.choice(arr)\n",
        "    lows = [x for x in arr if x < pivot]\n",
        "    highs = [x for x in arr if x > pivot]\n",
        "    pivots = [x for x in arr if x == pivot]\n",
        "\n",
        "    if k < len(lows):\n",
        "        return quickselect(lows, k)\n",
        "    elif k < len(lows) + len(pivots):\n",
        "        return pivots[0]\n",
        "    else:\n",
        "        return quickselect(highs, k - len(lows) - len(pivots))\n",
        "\n",
        "def quickselect_median(arr):\n",
        "    n = len(arr)\n",
        "    if n % 2 == 1:\n",
        "        return quickselect(arr, n // 2)\n",
        "    else:\n",
        "        return 0.5 * (quickselect(arr, n // 2 - 1) + quickselect(arr, n // 2))\n",
        "\n",
        "# Benchmark\n",
        "sizes = [1000, 2000, 5000]\n",
        "results = []\n",
        "\n",
        "for size in sizes:\n",
        "    data = [random.randint(0, 1000000) for _ in range(size)]\n",
        "\n",
        "    # NumPy median\n",
        "    start = time.time()\n",
        "    median_np = np.median(data)\n",
        "    time_np = time.time() - start\n",
        "\n",
        "    # Repeated passes\n",
        "    start = time.time()\n",
        "    median_rep = repeated_passes_median(data)\n",
        "    time_rep = time.time() - start\n",
        "\n",
        "    # Quickselect\n",
        "    start = time.time()\n",
        "    median_qs = quickselect_median(data)\n",
        "    time_qs = time.time() - start\n",
        "\n",
        "    results.append((size, time_np, time_rep, time_qs))\n",
        "\n",
        "\n",
        "print(\"| Array Size | NumPy Median (O(n log n)) | Repeated Passes (O(n²)) | Quickselect (O(n) avg.) |\")\n",
        "print(\"|------------|---------------------------|--------------------------|--------------------------|\")\n",
        "for size, time_np, time_rep, time_qs in results:\n",
        "    print(f\"| {size:<10} | {time_np:<25.6f} | {time_rep:<24.6f} | {time_qs:<24.6f} |\")\n"
      ]
    },
    {
      "cell_type": "markdown",
      "source": [
        "# What is the gradient of the following function with respect to x and y?\n",
        "# $x^2$y + $y^3$sin(x)"
      ],
      "metadata": {
        "id": "8LM0tm6G75uh"
      }
    },
    {
      "cell_type": "markdown",
      "source": [
        "**Ans - >**\n",
        "\n",
        "The gradient of f is the vector of its partial derivatives:\n",
        "\n",
        "\n",
        "Δf = ($\\frac{\\partial f}{\\partial x}$ , $\\frac{\\partial f}{\\partial y}$ )\n",
        "\n",
        "**Step 1:** Partial Derivative with respect to x\n",
        "To find $\\frac{\\partial f}{\\partial x}$, we treat y as a constant:\n",
        "\n",
        "\n",
        "$$\n",
        "\\frac{\\partial f}{\\partial x} = \\frac{\\partial}{\\partial x}(x^2 y) + \\frac{\\partial}{\\partial x}(y^3 \\sin(x))\n",
        "$$\n",
        "\n",
        "*  The derivative of $x^2 y$ is $2xy$.\n",
        "*  The derivative of $y^3 \\sin(x)$ is $y^3 \\cos(x)$.\n",
        "\n",
        "Combining these gives us:\n",
        "\n",
        "$$\n",
        "\\frac{\\partial f}{\\partial x} = 2xy + y^3 \\cos(x)\n",
        "$$\n",
        "\n",
        "\n",
        "\n",
        "\n",
        "\n",
        "**Step 2: Partial Derivative with respect **to y.\n",
        "To find $\\frac{\\partial f}{\\partial x}$,we treat x as a constant:\n",
        "\n",
        "$$\n",
        "\\frac{\\partial f}{\\partial y} = \\frac{\\partial}{\\partial y}(x^2 y) + \\frac{\\partial}{\\partial y}(y^3 \\sin(x))\n",
        "$$\n",
        "\n",
        "*  The derivative of $x^2 y$ is $x^2$.\n",
        "*  The derivative of $y^3 \\sin(x)$ is $3y^2 \\sin(x)$.\n",
        "\n",
        "Combining these gives us:\n",
        "$$\n",
        "\\frac{\\partial f}{\\partial y} = x^2 + 3y^2 \\sin(x)\n",
        "$$\n",
        "\n",
        "**Final Answer :**\n",
        "By combining the partial derivatives from the two steps, we get the gradient vector:\n",
        "\n",
        "$$\n",
        "\\nabla f = \\left( 2xy + y^3 \\cos(x),\\quad x^2 + 3y^2 \\sin(x) \\right)\n",
        "$$\n",
        "\n"
      ],
      "metadata": {
        "id": "XKrJPUUu8Zdm"
      }
    },
    {
      "cell_type": "markdown",
      "source": [
        "# 5) Use JAX to confirm the gradient evaluated by your method matches the analytical solution corresponding to a few random values of x and y"
      ],
      "metadata": {
        "id": "46JLmwwKCPHb"
      }
    },
    {
      "cell_type": "code",
      "source": [
        "import jax\n",
        "import jax.numpy as jnp\n",
        "import random\n",
        "\n",
        "def f(x, y):\n",
        "    \"\"\"The original function.\"\"\"\n",
        "    return x**2 * y + y**3 * jnp.sin(x)\n",
        "\n",
        "def analytical_gradient(x, y):\n",
        "    \"\"\"The analytical solution for the gradient.\"\"\"\n",
        "    df_dx = 2 * x * y + y**3 * jnp.cos(x)\n",
        "    df_dy = x**2 + 3 * y**2 * jnp.sin(x)\n",
        "    return (df_dx, df_dy)\n",
        "\n",
        "def main():\n",
        "    print(\"Verifying the analytical gradient with JAX.\\n\")\n",
        "\n",
        "    grad_f_x = jax.grad(f, argnums=0)\n",
        "    grad_f_y = jax.grad(f, argnums=1)\n",
        "\n",
        "    # Only one test case now\n",
        "    x_val, y_val = random.uniform(-10, 10), random.uniform(-10, 10)\n",
        "\n",
        "    print(f\"Test Case:\")\n",
        "    print(f\"Values: x = {x_val:.4f}, y = {y_val:.4f}\\n\")\n",
        "\n",
        "    analytical_df_dx, analytical_df_dy = analytical_gradient(x_val, y_val)\n",
        "    jax_df_dx = grad_f_x(x_val, y_val)\n",
        "    jax_df_dy = grad_f_y(x_val, y_val)\n",
        "\n",
        "    print(\"Analytical Gradient:\")\n",
        "    print(f\"  ∂f/∂x = {analytical_df_dx:.6f}\")\n",
        "    print(f\"  ∂f/∂y = {analytical_df_dy:.6f}\\n\")\n",
        "\n",
        "    print(\"JAX Gradient:\")\n",
        "    print(f\"  ∂f/∂x = {jax_df_dx:.6f}\")\n",
        "    print(f\"  ∂f/∂y = {jax_df_dy:.6f}\\n\")\n",
        "\n",
        "    is_x_close = jnp.allclose(analytical_df_dx, jax_df_dx)\n",
        "    is_y_close = jnp.allclose(analytical_df_dy, jax_df_dy)\n",
        "\n",
        "    print(f\"Match for ∂f/∂x? {is_x_close}\")\n",
        "    print(f\"Match for ∂f/∂y? {is_y_close}\")\n",
        "    print(\"-\" * 20)\n",
        "\n",
        "if __name__ == \"__main__\":\n",
        "    main()\n"
      ],
      "metadata": {
        "colab": {
          "base_uri": "https://localhost:8080/"
        },
        "id": "RMuZRAflCX--",
        "outputId": "09a34b08-f2b3-42c0-8206-12277eff069d"
      },
      "execution_count": null,
      "outputs": [
        {
          "output_type": "stream",
          "name": "stdout",
          "text": [
            "Verifying the analytical gradient with JAX.\n",
            "\n",
            "Test Case:\n",
            "Values: x = -1.2172, y = -1.5676\n",
            "\n",
            "Analytical Gradient:\n",
            "  ∂f/∂x = 2.482456\n",
            "  ∂f/∂y = -5.434701\n",
            "\n",
            "JAX Gradient:\n",
            "  ∂f/∂x = 2.482456\n",
            "  ∂f/∂y = -5.434702\n",
            "\n",
            "Match for ∂f/∂x? True\n",
            "Match for ∂f/∂y? True\n",
            "--------------------\n"
          ]
        }
      ]
    },
    {
      "cell_type": "markdown",
      "source": [
        "## Ques 6)\n",
        "\n",
        " Use sympy to confirm that you obtain the same gradient analytically."
      ],
      "metadata": {
        "id": "dzDW3ICrDpKn"
      }
    },
    {
      "cell_type": "code",
      "source": [
        "from sympy import symbols, sin, cos, diff\n",
        "\n",
        "def main():\n",
        "    # Define symbolic variables\n",
        "    x, y = symbols('x y')\n",
        "\n",
        "    # Define the function f(x, y)\n",
        "    f = x**2 * y + y**3 * sin(x)\n",
        "    print(\"Function: f(x, y) =\", f)\n",
        "\n",
        "    # Calculate the partial derivative with respect to x\n",
        "    df_dx = diff(f, x)\n",
        "\n",
        "    # Calculate the partial derivative with respect to y\n",
        "    df_dy = diff(f, y)\n",
        "\n",
        "    print(\"\\n--- SymPy Analytical Gradient ---\")\n",
        "    print(\"∂f/∂x =\", df_dx)\n",
        "    print(\"∂f/∂y =\", df_dy)\n",
        "\n",
        "    # Manually derived solution\n",
        "    print(\"\\n--- Manually Derived Solution ---\")\n",
        "    print(\"∂f/∂x = 2*x*y + y**3*cos(x)\")\n",
        "    print(\"∂f/∂y = x**2 + 3*y**2*sin(x)\")\n",
        "\n",
        "    # Check for equality\n",
        "    if df_dx == 2*x*y + y**3*cos(x) and df_dy == x**2 + 3*y**2*sin(x):\n",
        "        print(\"\\nConclusion: The SymPy results match the manually derived solution.\")\n",
        "    else:\n",
        "        print(\"\\nConclusion: The SymPy results do NOT match the manually derived solution.\")\n",
        "\n",
        "if __name__ == \"__main__\":\n",
        "    main()\n"
      ],
      "metadata": {
        "colab": {
          "base_uri": "https://localhost:8080/"
        },
        "id": "oraOjY6Z78cx",
        "outputId": "1829bfa4-64d8-482a-fbaa-84e4c4dd44bf"
      },
      "execution_count": null,
      "outputs": [
        {
          "output_type": "stream",
          "name": "stdout",
          "text": [
            "Function: f(x, y) = x**2*y + y**3*sin(x)\n",
            "\n",
            "--- SymPy Analytical Gradient ---\n",
            "∂f/∂x = 2*x*y + y**3*cos(x)\n",
            "∂f/∂y = x**2 + 3*y**2*sin(x)\n",
            "\n",
            "--- Manually Derived Solution ---\n",
            "∂f/∂x = 2*x*y + y**3*cos(x)\n",
            "∂f/∂y = x**2 + 3*y**2*sin(x)\n",
            "\n",
            "Conclusion: The SymPy results match the manually derived solution.\n"
          ]
        }
      ]
    },
    {
      "cell_type": "markdown",
      "source": [
        "## 7) Create a Python nested dictionary to represent hierarchical information. We want to store record of students and their marks."
      ],
      "metadata": {
        "id": "Rt9wryKYD-q_"
      }
    },
    {
      "cell_type": "code",
      "source": [
        "students_records = {\n",
        "    2022: {\n",
        "        \"Branch 1\": {\n",
        "            1: {\n",
        "                \"Name\": \"Neha\",\n",
        "                \"Marks\": {\n",
        "                    \"Maths\": 100,\n",
        "                    \"English\": 70,\n",
        "                }\n",
        "            },\n",
        "            2: {\n",
        "                \"Name\": \"Manish\",\n",
        "                \"Marks\": {\n",
        "                    \"Maths\": 90,\n",
        "                    \"English\": 80,\n",
        "                }\n",
        "            },\n",
        "        },\n",
        "        \"Branch 2\": {\n",
        "            1: {\n",
        "                \"Name\": \"Prasad\",\n",
        "                \"Marks\": {\n",
        "                    \"Maths\": 80,\n",
        "                    \"English\": 90,\n",
        "                }\n",
        "            },\n",
        "\n",
        "            2: {\n",
        "                \"Name\": \"Aditya\",\n",
        "                \"Marks\": {\n",
        "                    \"Maths\": 70,\n",
        "                    \"English\": 80,\n",
        "                }\n",
        "            },\n",
        "        }\n",
        "    },\n",
        "    2023: {\n",
        "        \"Branch 1\": {\n",
        "            1: {\n",
        "                \"Name\": \"Rohan\",\n",
        "                \"Marks\": {\n",
        "                    \"Maths\": 60,\n",
        "                    \"English\": 70,\n",
        "                }\n",
        "            },\n",
        "            2: {\n",
        "                \"Name\": \"Sahil\",\n",
        "                \"Marks\": {\n",
        "                    \"Maths\": 50,\n",
        "                    \"English\": 60,\n",
        "                }\n",
        "            },\n",
        "        },\n",
        "        \"Branch 2\": {\n",
        "            1: {\n",
        "                \"Name\": \"Tanmay\",\n",
        "                \"Marks\": {\n",
        "                    \"Maths\": 40,\n",
        "                    \"English\": 50,\n",
        "                }\n",
        "            },\n",
        "            2: {\n",
        "                \"Name\": \"Stuti\",\n",
        "                \"Marks\": {\n",
        "                    \"Maths\": 30,\n",
        "                    \"English\": 40,\n",
        "                }\n",
        "            },\n",
        "        }\n",
        "    },\n",
        "    2024: {\n",
        "        \"Branch 1\": {\n",
        "            1: {\n",
        "                \"Name\": \"Vivek\",\n",
        "                \"Marks\": {\n",
        "                    \"Maths\": 20,\n",
        "                    \"English\": 30,\n",
        "                }\n",
        "            },\n",
        "            2: {\n",
        "                \"Name\": \"Om\",\n",
        "                \"Marks\": {\n",
        "                    \"Maths\": 10,\n",
        "                    \"English\": 20,\n",
        "                }\n",
        "            },\n",
        "        },\n",
        "        \"Branch 2\": {\n",
        "            1: {\n",
        "                \"Name\": \"Devashish\",\n",
        "                \"Marks\": {\n",
        "                    \"Maths\": 0,\n",
        "                    \"English\": 10,\n",
        "                }\n",
        "            },\n",
        "            2: {\n",
        "                \"Name\": \"Yasmin\",\n",
        "                \"Marks\": {\n",
        "                    \"Maths\": 40,\n",
        "                    \"English\": 20,\n",
        "                }\n",
        "            },\n",
        "        }\n",
        "    },\n",
        "    2025: {\n",
        "        \"Branch 1\": {\n",
        "            1: {\n",
        "                \"Name\": \"Sarthak\",\n",
        "                \"Marks\": {\n",
        "                    \"Maths\": 20,\n",
        "                    \"English\": 30,\n",
        "                }\n",
        "            },\n",
        "        },\n",
        "        \"Branch 2\": {\n",
        "            1: {\n",
        "                \"Name\": \"Aahan\",\n",
        "                \"Marks\": {\n",
        "                    \"Maths\": 40,\n",
        "                    \"English\": 50,\n",
        "                }\n",
        "            },\n",
        "        }\n",
        "    }\n",
        "}"
      ],
      "metadata": {
        "id": "rkiDip-sEEee"
      },
      "execution_count": null,
      "outputs": []
    },
    {
      "cell_type": "code",
      "source": [
        "## adding in to dictionary\n",
        "\n",
        "students_records[2022][\"Branch 1\"][2] = {\n",
        "    \"Name\": \"Jayesh\",\n",
        "    \"Marks\": {\n",
        "        \"Maths\": 85,\n",
        "        \"English\": 90\n",
        "    }\n",
        "}\n"
      ],
      "metadata": {
        "id": "PglQptIPE7J_"
      },
      "execution_count": null,
      "outputs": []
    },
    {
      "cell_type": "code",
      "source": [
        "## Acesss the dictonary\n",
        "\n",
        "print(students_records[2022][\"Branch 1\"][1])"
      ],
      "metadata": {
        "colab": {
          "base_uri": "https://localhost:8080/"
        },
        "id": "8HNHJJC0P6wk",
        "outputId": "1d03c0ab-e528-4baf-b181-732ef5775dee"
      },
      "execution_count": null,
      "outputs": [
        {
          "output_type": "stream",
          "name": "stdout",
          "text": [
            "{'Name': 'Neha', 'Marks': {'Maths': 100, 'English': 70}}\n"
          ]
        }
      ]
    },
    {
      "cell_type": "markdown",
      "source": [
        "##Ques 8) Store the same information using Python classes. We have an overall database which is a list of year objects. Each year contains a list of branches. Each branch contains a list of students. Each student has some properties like name, roll number and has marks in some subjects.\n",
        "\n"
      ],
      "metadata": {
        "id": "r_cDVommQ23L"
      }
    },
    {
      "cell_type": "code",
      "source": [
        "from typing import List, Dict\n",
        "\n",
        "class Student:\n",
        "    def __init__(self, roll_number: int, name: str, marks: Dict[str, int]):\n",
        "        self.roll_number = roll_number\n",
        "        self.name = name\n",
        "        self.marks = marks\n",
        "\n",
        "    def __repr__(self):\n",
        "        return f\"Student({self.roll_number}, {self.name}, {self.marks})\"\n",
        "\n",
        "\n",
        "class Branch:\n",
        "    def __init__(self, name: str):\n",
        "        self.name = name\n",
        "        self.students: List[Student] = []\n",
        "\n",
        "    def add_student(self, student: Student):\n",
        "        self.students.append(student)\n",
        "\n",
        "    def __repr__(self):\n",
        "        return f\"Branch({self.name}, Students: {len(self.students)})\"\n",
        "\n",
        "\n",
        "class Year:\n",
        "    def __init__(self, year: int):\n",
        "        self.year = year\n",
        "        self.branches: List[Branch] = []\n",
        "\n",
        "    def add_branch(self, branch: Branch):\n",
        "        self.branches.append(branch)\n",
        "\n",
        "    def __repr__(self):\n",
        "        return f\"Year({self.year}, Branches: {len(self.branches)})\"\n",
        "\n",
        "\n",
        "class Database:\n",
        "    def __init__(self):\n",
        "        self.years: List[Year] = []\n",
        "\n",
        "    def add_year(self, year: Year):\n",
        "        self.years.append(year)\n",
        "\n",
        "    def __repr__(self):\n",
        "        return f\"Database(Years: {len(self.years)})\"\n",
        "\n",
        "\n",
        "def print_all_records(database):\n",
        "    for year in database.years:\n",
        "        print(f\"Year: {year.year}\")\n",
        "        for branch in year.branches:\n",
        "            print(f\"  Branch: {branch.name}\")\n",
        "            for student in branch.students:\n",
        "                print(f\"    Roll Number: {student.roll_number}, Name: {student.name}, Marks: {student.marks}\")\n"
      ],
      "metadata": {
        "id": "3EXnD9IFP_iP"
      },
      "execution_count": null,
      "outputs": []
    },
    {
      "cell_type": "code",
      "source": [
        "db = Database()\n",
        "\n",
        "# Create year 2022\n",
        "year_2022 = Year(2022)\n",
        "\n",
        "# Create branches\n",
        "branch1 = Branch(\"Branch 1\")\n",
        "branch2 = Branch(\"Branch 2\")\n",
        "\n",
        "# Add students to Branch 1\n",
        "branch1.add_student(Student(1, \"Neha\", {\"Maths\": 100, \"English\": 70}))\n",
        "branch1.add_student(Student(2, \"Manish\", {\"Maths\": 90, \"English\": 80}))\n",
        "\n",
        "# Add students to Branch 2\n",
        "branch2.add_student(Student(1, \"Prasad\", {\"Maths\": 80, \"English\": 90}))\n",
        "branch2.add_student(Student(2, \"Aditya\", {\"Maths\": 70, \"English\": 80}))\n",
        "\n",
        "# Add branches to year\n",
        "year_2022.add_branch(branch1)\n",
        "year_2022.add_branch(branch2)\n",
        "\n",
        "# Add year to database\n",
        "db.add_year(year_2022)\n"
      ],
      "metadata": {
        "id": "fFG2rrrPRBen"
      },
      "execution_count": null,
      "outputs": []
    },
    {
      "cell_type": "code",
      "source": [
        "print_all_records(db)\n"
      ],
      "metadata": {
        "colab": {
          "base_uri": "https://localhost:8080/"
        },
        "id": "0MzZ96cyRjz_",
        "outputId": "7e22fa8c-bc13-4697-8916-89cfd740f5bf"
      },
      "execution_count": null,
      "outputs": [
        {
          "output_type": "stream",
          "name": "stdout",
          "text": [
            "Year: 2022\n",
            "  Branch: Branch 1\n",
            "    Roll Number: 1, Name: Neha, Marks: {'Maths': 100, 'English': 70}\n",
            "    Roll Number: 2, Name: Manish, Marks: {'Maths': 90, 'English': 80}\n",
            "  Branch: Branch 2\n",
            "    Roll Number: 1, Name: Prasad, Marks: {'Maths': 80, 'English': 90}\n",
            "    Roll Number: 2, Name: Aditya, Marks: {'Maths': 70, 'English': 80}\n"
          ]
        }
      ]
    },
    {
      "cell_type": "markdown",
      "source": [
        "##Using matplotlib plot the following functions on the domain: x = 0.5 to 100.0 in steps of 0.5."
      ],
      "metadata": {
        "id": "slKmm7iLRXtK"
      }
    },
    {
      "cell_type": "code",
      "source": [
        "import numpy as np\n",
        "import matplotlib.pyplot as plt\n"
      ],
      "metadata": {
        "id": "dVM-OVzdRu9r"
      },
      "execution_count": null,
      "outputs": []
    },
    {
      "cell_type": "markdown",
      "source": [
        "# 1) y=x"
      ],
      "metadata": {
        "id": "XfcGoiylRqXp"
      }
    },
    {
      "cell_type": "code",
      "source": [
        "# Define the domain\n",
        "x = np.arange(0.5, 100.0 + 0.5, 0.5)\n",
        "\n",
        "# Define the function y = x\n",
        "y = x\n",
        "\n",
        "# Plotting\n",
        "plt.figure(figsize=(5, 3))\n",
        "plt.plot(x, y, label='y = x')\n",
        "plt.xlabel('x')\n",
        "plt.ylabel('y')\n",
        "plt.title('Plot of y = x')\n",
        "plt.legend()\n",
        "plt.grid(True)\n",
        "plt.show()\n"
      ],
      "metadata": {
        "colab": {
          "base_uri": "https://localhost:8080/",
          "height": 333
        },
        "id": "VKcBs9pBRJ5H",
        "outputId": "aa22b04f-6cbc-4d52-b56d-57b8ae472a3c"
      },
      "execution_count": null,
      "outputs": [
        {
          "output_type": "display_data",
          "data": {
            "text/plain": [
              "<Figure size 500x300 with 1 Axes>"
            ],
            "image/png": "[encoded data removed]"
          },
          "metadata": {}
        }
      ]
    },
    {
      "cell_type": "markdown",
      "source": [
        "# 2) y=$x^2$"
      ],
      "metadata": {
        "id": "-IocU2naTJsG"
      }
    },
    {
      "cell_type": "code",
      "source": [
        "import numpy as np\n",
        "import matplotlib.pyplot as plt\n",
        "\n",
        "# Define the domain\n",
        "x = np.arange(0.5, 100.0 + 0.5, 0.5)\n",
        "\n",
        "# Define the function y = x^2\n",
        "y = x ** 2\n",
        "\n",
        "# Plotting\n",
        "plt.figure(figsize=(5, 3))\n",
        "plt.plot(x, y, label='y = x^2', color='orange')\n",
        "plt.xlabel('x')\n",
        "plt.ylabel('y')\n",
        "plt.title('Plot of y = x^2')\n",
        "plt.legend()\n",
        "plt.grid(True)\n",
        "plt.show()\n"
      ],
      "metadata": {
        "colab": {
          "base_uri": "https://localhost:8080/",
          "height": 333
        },
        "id": "LAFGmBObRzPQ",
        "outputId": "52a56759-2faf-4cfc-dec8-4c7f7a02866e"
      },
      "execution_count": null,
      "outputs": [
        {
          "output_type": "display_data",
          "data": {
            "text/plain": [
              "<Figure size 500x300 with 1 Axes>"
            ],
            "image/png": "[encoded data removed]"
          },
          "metadata": {}
        }
      ]
    },
    {
      "cell_type": "markdown",
      "source": [
        "# 3) y=$\\frac{x^3}{100}$  "
      ],
      "metadata": {
        "id": "tEkQLi_ETUvj"
      }
    },
    {
      "cell_type": "code",
      "source": [
        "import numpy as np\n",
        "import matplotlib.pyplot as plt\n",
        "\n",
        "# Define the domain\n",
        "x = np.arange(0.5, 100.0 + 0.5, 0.5)\n",
        "\n",
        "# Define the function y = x^3 / 100\n",
        "y = (x ** 3) / 100\n",
        "\n",
        "# Plotting\n",
        "plt.figure(figsize=(5, 3))\n",
        "plt.plot(x, y, label='y = x^3 / 100', color='green')\n",
        "plt.xlabel('x')\n",
        "plt.ylabel('y')\n",
        "plt.title('Plot of y = x^3 / 100')\n",
        "plt.legend()\n",
        "plt.grid(True)\n",
        "plt.show()\n"
      ],
      "metadata": {
        "colab": {
          "base_uri": "https://localhost:8080/",
          "height": 333
        },
        "id": "bM0o0BKvSF7O",
        "outputId": "9a5e8be2-4707-43ee-a1d4-1cf68c8f52c3"
      },
      "execution_count": null,
      "outputs": [
        {
          "output_type": "display_data",
          "data": {
            "text/plain": [
              "<Figure size 500x300 with 1 Axes>"
            ],
            "image/png": "[encoded data removed]"
          },
          "metadata": {}
        }
      ]
    },
    {
      "cell_type": "markdown",
      "source": [
        "## 4) sin(x)"
      ],
      "metadata": {
        "id": "8AplJuzHUg20"
      }
    },
    {
      "cell_type": "code",
      "source": [
        "import numpy as np\n",
        "import matplotlib.pyplot as plt\n",
        "\n",
        "# Domain\n",
        "x = np.arange(0.5, 100.0 + 0.5, 0.5)\n",
        "\n",
        "# Function\n",
        "y = np.sin(x)\n",
        "\n",
        "# Plot\n",
        "plt.figure(figsize=(5, 3))\n",
        "plt.plot(x, y, label='y = sin(x)', color='purple')\n",
        "plt.xlabel('x')\n",
        "plt.ylabel('y')\n",
        "plt.title('Plot of y = sin(x)')\n",
        "\n",
        "plt.grid(True)\n",
        "plt.show()\n"
      ],
      "metadata": {
        "colab": {
          "base_uri": "https://localhost:8080/",
          "height": 333
        },
        "id": "_504ucT-SMw2",
        "outputId": "be90d6c5-7c1d-4e28-b8c5-0c69b491d3f8"
      },
      "execution_count": null,
      "outputs": [
        {
          "output_type": "display_data",
          "data": {
            "text/plain": [
              "<Figure size 500x300 with 1 Axes>"
            ],
            "image/png": "[encoded data removed]"
          },
          "metadata": {}
        }
      ]
    },
    {
      "cell_type": "markdown",
      "source": [
        "### 5) $\\frac{sin x}{x}$"
      ],
      "metadata": {
        "id": "qAh2JcbmUtyw"
      }
    },
    {
      "cell_type": "code",
      "source": [
        "import numpy as np\n",
        "import matplotlib.pyplot as plt\n",
        "\n",
        "# Domain\n",
        "x = np.arange(0.5, 100.0 + 0.5, 0.5)\n",
        "\n",
        "# Function\n",
        "y = np.sin(x) / x\n",
        "\n",
        "# Plot\n",
        "plt.figure(figsize=(5, 3))\n",
        "plt.plot(x, y, label='y = sin(x)', color='purple')\n",
        "plt.xlabel('x')\n",
        "plt.ylabel('y')\n",
        "plt.title('Plot of y = sin(x)')\n",
        "plt.legend()\n",
        "plt.grid(True)\n",
        "plt.show()\n"
      ],
      "metadata": {
        "colab": {
          "base_uri": "https://localhost:8080/",
          "height": 333
        },
        "id": "-dX2lCZGSXnm",
        "outputId": "6ba23cdb-3e4b-43a1-b726-f52ace9c4b79"
      },
      "execution_count": null,
      "outputs": [
        {
          "output_type": "display_data",
          "data": {
            "text/plain": [
              "<Figure size 500x300 with 1 Axes>"
            ],
            "image/png": "[encoded data removed]"
          },
          "metadata": {}
        }
      ]
    },
    {
      "cell_type": "markdown",
      "source": [
        "# 6) y= log(x)"
      ],
      "metadata": {
        "id": "Hf-LBR3xU-Ih"
      }
    },
    {
      "cell_type": "code",
      "source": [
        "import numpy as np\n",
        "import matplotlib.pyplot as plt\n",
        "\n",
        "# Define domain\n",
        "x = np.arange(0.5, 100.0 + 0.5, 0.5)\n",
        "\n",
        "# Compute y = log(x)\n",
        "y = np.log(x)\n",
        "\n",
        "# Plotting\n",
        "plt.figure(figsize=(5, 3))\n",
        "plt.plot(x, y, label='y = log(x)', color='brown')\n",
        "plt.xlabel('x')\n",
        "plt.ylabel('y')\n",
        "plt.title('Plot of y = log(x)')\n",
        "plt.legend()\n",
        "plt.grid(True)\n",
        "plt.show()\n"
      ],
      "metadata": {
        "colab": {
          "base_uri": "https://localhost:8080/",
          "height": 333
        },
        "id": "2W1eyhjcScF3",
        "outputId": "f89ec599-1336-4701-8354-5585ae81eb25"
      },
      "execution_count": null,
      "outputs": [
        {
          "output_type": "display_data",
          "data": {
            "text/plain": [
              "<Figure size 500x300 with 1 Axes>"
            ],
            "image/png": "[encoded data removed]"
          },
          "metadata": {}
        }
      ]
    },
    {
      "cell_type": "markdown",
      "source": [
        "# 7) y= $e^x$"
      ],
      "metadata": {
        "id": "bMw7hYIxVJwU"
      }
    },
    {
      "cell_type": "code",
      "source": [
        "import numpy as np\n",
        "import matplotlib.pyplot as plt\n",
        "\n",
        "# Define domain\n",
        "x = np.arange(0.5, 10.0 + 0.5, 0.5)\n",
        "\n",
        "# Compute y = e^x\n",
        "y = np.exp(x)\n",
        "\n",
        "# Plotting\n",
        "plt.figure(figsize=(5, 3))\n",
        "plt.plot(x, y, label='y = e^x', color='red')\n",
        "plt.xlabel('x')\n",
        "plt.ylabel('y')\n",
        "plt.title('Plot of y = e^x')\n",
        "plt.legend()\n",
        "plt.grid(True)\n",
        "plt.show()\n"
      ],
      "metadata": {
        "colab": {
          "base_uri": "https://localhost:8080/",
          "height": 333
        },
        "id": "8FUdfrSPSyAP",
        "outputId": "205bbdb9-459b-4b61-cb2a-e33f2274eafb"
      },
      "execution_count": null,
      "outputs": [
        {
          "output_type": "display_data",
          "data": {
            "text/plain": [
              "<Figure size 500x300 with 1 Axes>"
            ],
            "image/png": "[encoded data removed]"
          },
          "metadata": {}
        }
      ]
    },
    {
      "cell_type": "markdown",
      "source": [
        "# Ques 10) Using numpy generate a matrix of size 20X5 containing random numbers drawn uniformly from the range of 1 to 2. Using Pandas create a dataframe out of this matrix. Name the columns of the dataframe as “a”, “b”, “c”, “d”, “e”. Find the column with the highest standard deviation. Find the row with the lowest mean."
      ],
      "metadata": {
        "id": "87ub_I4gVlNT"
      }
    },
    {
      "cell_type": "code",
      "source": [
        "import numpy as np\n",
        "import pandas as pd\n",
        "\n",
        "matrix = np.random.uniform(low=1, high=2, size=(20, 5))\n",
        "\n",
        "df = pd.DataFrame(matrix, columns=['a', 'b', 'c', 'd', 'e'])\n",
        "\n",
        "col_std = df.std()\n",
        "col_with_highest_std = col_std.idxmax()\n",
        "highest_std_value = col_std.max()\n",
        "\n",
        "print(f\"Column with highest std deviation: '{col_with_highest_std}' (std = {highest_std_value:.4f})\")\n",
        "\n",
        "row_means = df.mean(axis=1)\n",
        "row_with_lowest_mean = row_means.idxmin()\n",
        "lowest_mean_value = row_means.min()\n",
        "\n",
        "print(f\"Row with lowest mean: Index {row_with_lowest_mean} (mean = {lowest_mean_value:.4f})\")\n",
        "\n",
        "\n"
      ],
      "metadata": {
        "colab": {
          "base_uri": "https://localhost:8080/"
        },
        "id": "-CjUgzEgS5U2",
        "outputId": "e5d3cdc4-51de-49e2-c1a4-06b4a582b4ce"
      },
      "execution_count": null,
      "outputs": [
        {
          "output_type": "stream",
          "name": "stdout",
          "text": [
            "Column with highest std deviation: 'c' (std = 0.3146)\n",
            "Row with lowest mean: Index 9 (mean = 1.1693)\n"
          ]
        }
      ]
    },
    {
      "cell_type": "markdown",
      "source": [
        "\n",
        "# Ques 11) Add a new column to the dataframe called “f” which is the sum of the columns “a”, “b”, “c”, “d”, “e”. Create another column called “g”. The value in the column “g” should be “LT8” if the value in the column “f” is less than 8 and “GT8” otherwise. Find the number of rows in the dataframe where the value in the column “g” is “LT8”. Find the standard deviation of the column “f” for the rows where the value in the column “g” is “LT8” and “GT8” respectively."
      ],
      "metadata": {
        "id": "uEXF45o3WDMQ"
      }
    },
    {
      "cell_type": "code",
      "source": [
        "import numpy as np\n",
        "import pandas as pd\n",
        "\n",
        "matrix = np.random.uniform(low=1, high=2, size=(20, 5))\n",
        "\n",
        "df = pd.DataFrame(matrix, columns=['a', 'b', 'c', 'd', 'e'])\n",
        "\n",
        "\n",
        "df['f'] = df[['a', 'b', 'c', 'd', 'e']].sum(axis=1)\n",
        "\n",
        "df['g'] = np.where(df['f'] < 8, 'LT8', 'GT8')\n",
        "\n",
        "count_lt8 = (df['g'] == 'LT8').sum()\n",
        "\n",
        "\n",
        "std_lt8 = df.loc[df['g'] == 'LT8', 'f'].std()\n",
        "std_gt8 = df.loc[df['g'] == 'GT8', 'f'].std()\n",
        "\n",
        "print(f\"Number of rows where 'g' == 'LT8': {count_lt8}\")\n",
        "print(f\"Standard deviation of 'f' where 'g' == 'LT8': {std_lt8:.4f}\")\n",
        "print(f\"Standard deviation of 'f' where 'g' == 'GT8': {std_gt8:.4f}\")\n"
      ],
      "metadata": {
        "colab": {
          "base_uri": "https://localhost:8080/"
        },
        "id": "HY1u-Fr5V0in",
        "outputId": "fc69f96c-af66-4372-e44e-564fa9325bbb"
      },
      "execution_count": null,
      "outputs": [
        {
          "output_type": "stream",
          "name": "stdout",
          "text": [
            "Number of rows where 'g' == 'LT8': 15\n",
            "Standard deviation of 'f' where 'g' == 'LT8': 0.2998\n",
            "Standard deviation of 'f' where 'g' == 'GT8': 0.1928\n"
          ]
        }
      ]
    },
    {
      "cell_type": "code",
      "source": [
        "import numpy as np\n",
        "\n",
        "a = np.array([1, 2, 3])\n",
        "\n",
        "\n",
        "b = np.array([\n",
        "    [10, 20, 30],\n",
        "    [40, 50, 60],\n",
        "    [70, 80, 90]\n",
        "])\n",
        "\n",
        "## broadcasting of numpy\n",
        "c = b + a\n",
        "\n",
        "print(\"Array a:\", a)\n",
        "print()\n",
        "print(\"Array b:\\n\", b)\n",
        "print()\n",
        "print(\"Result of b + a:\\n\", c)\n"
      ],
      "metadata": {
        "colab": {
          "base_uri": "https://localhost:8080/"
        },
        "id": "AcrVcLvXWjUf",
        "outputId": "93fa9f5b-5d0a-4bf3-f248-30c251df7b2c"
      },
      "execution_count": null,
      "outputs": [
        {
          "output_type": "stream",
          "name": "stdout",
          "text": [
            "Array a: [1 2 3]\n",
            "\n",
            "Array b:\n",
            " [[10 20 30]\n",
            " [40 50 60]\n",
            " [70 80 90]]\n",
            "\n",
            "Result of b + a:\n",
            " [[11 22 33]\n",
            " [41 52 63]\n",
            " [71 82 93]]\n"
          ]
        }
      ]
    },
    {
      "cell_type": "markdown",
      "source": [
        "# Ques 13) Write a function to compute the argmin of a numpy array. The function should take a numpy array as input and return the index of the minimum element. You can use the np.argmin function to verify your solution."
      ],
      "metadata": {
        "id": "VEmaXaHMXcHB"
      }
    },
    {
      "cell_type": "code",
      "source": [
        "import numpy as np\n",
        "\n",
        "def my_argmin(arr):\n",
        "    min_index = 0\n",
        "    min_value = arr[0]\n",
        "\n",
        "    for i in range(1, len(arr)):\n",
        "        if arr[i] < min_value:\n",
        "            min_value = arr[i]\n",
        "            min_index = i\n",
        "\n",
        "    return min_index\n",
        "\n",
        "# Example usage\n",
        "arr = np.array([5, 2, 8, 1, 4])\n",
        "\n",
        "custom_index = my_argmin(arr)\n",
        "numpy_index = np.argmin(arr)\n",
        "\n",
        "print(f\"Custom argmin index: {custom_index}\")\n",
        "print(f\"NumPy argmin index: {numpy_index}\")\n",
        "print(f\"Values at these indices: custom={arr[custom_index]}, numpy={arr[numpy_index]}\")\n"
      ],
      "metadata": {
        "colab": {
          "base_uri": "https://localhost:8080/"
        },
        "id": "-fR8FuFuWyLG",
        "outputId": "fdaf7d35-0bb0-4521-fb0e-b3e7afa2f5d6"
      },
      "execution_count": null,
      "outputs": [
        {
          "output_type": "stream",
          "name": "stdout",
          "text": [
            "Custom argmin index: 3\n",
            "NumPy argmin index: 3\n",
            "Values at these indices: custom=1, numpy=1\n"
          ]
        }
      ]
    }
  ]
}